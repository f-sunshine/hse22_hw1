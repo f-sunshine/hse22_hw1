{
  "nbformat": 4,
  "nbformat_minor": 0,
  "metadata": {
    "colab": {
      "provenance": []
    },
    "kernelspec": {
      "name": "python3",
      "display_name": "Python 3"
    },
    "language_info": {
      "name": "python"
    }
  },
  "cells": [
    {
      "cell_type": "markdown",
      "source": [
        "Функция для рассчетов:"
      ],
      "metadata": {
        "id": "4NNDCUksYxSk"
      }
    },
    {
      "cell_type": "code",
      "source": [
        "def analyze_file(file):\n",
        "  amount = 0 \n",
        "  complete_length = 0 \n",
        "  max_length = 0 \n",
        "  all_lengths = [] \n",
        "  length = 0 \n",
        "  sum = 0 \n",
        "  n50 = 0\n",
        "\n",
        "  for line in file:\n",
        "    if(line[0] == \">\"):\n",
        "      amount += 1\n",
        "      all_lengths.append(length) #здесь добавляется и нулевая длина, но она не влияет ни на что\n",
        "      if length > max_length:\n",
        "        max_length = length\n",
        "      length = 0\n",
        "    else:\n",
        "      complete_length += len(line.strip())\n",
        "      length += len(line.strip())\n",
        "  # проверка последней длины и добавление в all_lengths, тк она не проверяется в for\n",
        "  if length > max_length:\n",
        "        max_length = length\n",
        "  all_lengths.append(length)\n",
        "  all_lengths.sort(reverse = True)\n",
        "  for l in all_lengths:\n",
        "    sum += l\n",
        "    if sum >= complete_length / 2:\n",
        "      n50 = l\n",
        "      break\n",
        "  \n",
        "  print(\"Количество: \", amount)\n",
        "  print(\"Общая длина: \", complete_length)\n",
        "  print(\"Длина самого длинного элемента: \", max_length)\n",
        "  print(\"N50: \", n50)"
      ],
      "metadata": {
        "id": "C7eI5uWFDhlw"
      },
      "execution_count": null,
      "outputs": []
    },
    {
      "cell_type": "markdown",
      "source": [
        "Функция для нахождения самого длинного скаффолда:"
      ],
      "metadata": {
        "id": "GCp0V222Y3wM"
      }
    },
    {
      "cell_type": "code",
      "source": [
        "def get_max_whatever(file):\n",
        "  whatever = \"\"\n",
        "  list_of_whatevers = []\n",
        "  max_len = 0\n",
        "  max_whatever = \"\"\n",
        "  for line in file:\n",
        "    if(line[0] == \">\"):\n",
        "      list_of_whatevers.append(whatever)\n",
        "      whatever = \"\"\n",
        "    else:\n",
        "      whatever += line.strip()\n",
        "  list_of_whatevers.append(whatever) # добавляем последнюю последовательность\n",
        "  for w in list_of_whatevers:\n",
        "      if (len(w) > max_len):\n",
        "        max_len = len(w)\n",
        "        max_whatever = w\n",
        "  return max_whatever\n"
      ],
      "metadata": {
        "id": "nIP6SOyzPK7W"
      },
      "execution_count": null,
      "outputs": []
    },
    {
      "cell_type": "markdown",
      "source": [
        "**Анализ контигов**"
      ],
      "metadata": {
        "id": "OUmw1hNtY8tz"
      }
    },
    {
      "cell_type": "code",
      "source": [
        "contigs = open('Poil_contig.fa', 'r')\n",
        "analyze_file(contigs)"
      ],
      "metadata": {
        "colab": {
          "base_uri": "https://localhost:8080/"
        },
        "id": "EiW2QBAqKaFV",
        "outputId": "04eb3ffd-80a0-4e55-ae68-1bb0fcb5d939"
      },
      "execution_count": null,
      "outputs": [
        {
          "output_type": "stream",
          "name": "stdout",
          "text": [
            "Количество:  596\n",
            "Общая длина:  3924062\n",
            "Длина самого длинного элемента:  179307\n",
            "N50:  53009\n"
          ]
        }
      ]
    },
    {
      "cell_type": "markdown",
      "source": [
        "**Анализ скаффолдов:**"
      ],
      "metadata": {
        "id": "_YCMyiXTZCJf"
      }
    },
    {
      "cell_type": "code",
      "source": [
        "scaffolds = open('Poil_scaffold.fa', 'r')\n",
        "analyze_file(scaffolds)"
      ],
      "metadata": {
        "colab": {
          "base_uri": "https://localhost:8080/"
        },
        "id": "6lXNXxiaKq2f",
        "outputId": "8586a9f9-dae6-4139-ffa6-c4d6f43fbf96"
      },
      "execution_count": null,
      "outputs": [
        {
          "output_type": "stream",
          "name": "stdout",
          "text": [
            "Количество:  70\n",
            "Общая длина:  3875724\n",
            "Длина самого длинного элемента:  3831951\n",
            "N50:  3831951\n"
          ]
        }
      ]
    },
    {
      "cell_type": "markdown",
      "source": [
        "Библиотека для сокращения N в последовательности скаффлода:\n"
      ],
      "metadata": {
        "id": "Ayv5camXHEGV"
      }
    },
    {
      "cell_type": "code",
      "source": [
        "import re"
      ],
      "metadata": {
        "id": "XIagThXBFDvx"
      },
      "execution_count": 30,
      "outputs": []
    },
    {
      "cell_type": "markdown",
      "source": [
        "**Количество и длина гэпов для самого длинного скаффолда:**"
      ],
      "metadata": {
        "id": "6ib3i33-ZH3_"
      }
    },
    {
      "cell_type": "code",
      "source": [
        "scaffolds = open('Poil_scaffold.fa', 'r')\n",
        "max_len_scaffold = get_max_whatever(scaffolds)\n",
        "print(\"Общая длина гэпов: \", max_len_scaffold.count(\"N\"))\n",
        "print(\"Количество гэпов: \", re.sub(r\"N+\", \"N\", max_len_scaffold).count(\"N\"))"
      ],
      "metadata": {
        "colab": {
          "base_uri": "https://localhost:8080/"
        },
        "id": "vwDyJx1WO6Bb",
        "outputId": "7ec99728-8f95-4e38-c64f-05ead94a4181"
      },
      "execution_count": 38,
      "outputs": [
        {
          "output_type": "stream",
          "name": "stdout",
          "text": [
            "Общая длина гэпов:  6252\n",
            "Количество гэпов:  60\n"
          ]
        }
      ]
    },
    {
      "cell_type": "markdown",
      "source": [
        "**Количество и длина гэпов для самого длинного скаффолда после gap_close:**"
      ],
      "metadata": {
        "id": "5I_F3cfUZSu2"
      }
    },
    {
      "cell_type": "code",
      "source": [
        "gc_scaffolds = open('Poil_gapClosed.fa', 'r')\n",
        "max_len_gc_scaffold = get_max_whatever(gc_scaffolds)\n",
        "print(\"Общая длина гэпов: \", max_len_gc_scaffold.count(\"N\"))\n",
        "print(\"Количество гэпов: \", re.sub(r\"N+\", \"N\", max_len_gc_scaffold).count(\"N\"))"
      ],
      "metadata": {
        "colab": {
          "base_uri": "https://localhost:8080/"
        },
        "id": "vwrqp-ajRUm5",
        "outputId": "eb0288e4-d82e-4cbf-a467-6b968dd3ab39"
      },
      "execution_count": 39,
      "outputs": [
        {
          "output_type": "stream",
          "name": "stdout",
          "text": [
            "Общая длина гэпов:  1840\n",
            "Количество гэпов:  9\n"
          ]
        }
      ]
    },
    {
      "cell_type": "markdown",
      "source": [
        "Сохранение самого длинного скаффолда в файл"
      ],
      "metadata": {
        "id": "ZF_qY86DwuXj"
      }
    },
    {
      "cell_type": "code",
      "source": [
        "out_file = open('longest_trimmed.fasta','w')\n",
        "out_file.write(max_len_gc_scaffold)\n",
        "out_file.close()"
      ],
      "metadata": {
        "id": "yakxo6Utyfbu"
      },
      "execution_count": null,
      "outputs": []
    },
    {
      "cell_type": "code",
      "source": [
        "out_file2 = open('longest.fasta','w')\n",
        "out_file2.write(max_len_scaffold)\n",
        "out_file2.close()"
      ],
      "metadata": {
        "id": "37h9Z9Nd0TsK"
      },
      "execution_count": null,
      "outputs": []
    }
  ]
}